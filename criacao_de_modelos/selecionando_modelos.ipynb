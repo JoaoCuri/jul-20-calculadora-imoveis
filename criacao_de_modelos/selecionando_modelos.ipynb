{
 "cells": [
  {
   "cell_type": "markdown",
   "metadata": {
    "colab_type": "text",
    "id": "gFzQV1py16_j"
   },
   "source": [
    "## 3. Machine Learning"
   ]
  },
  {
   "cell_type": "markdown",
   "metadata": {
    "colab_type": "text",
    "id": "7emCkyBA9CI2"
   },
   "source": [
    "### 3.1 Importando dados preprocessados"
   ]
  },
  {
   "cell_type": "code",
   "execution_count": 3,
   "metadata": {
    "colab": {},
    "colab_type": "code",
    "id": "bt3Yh07N9IJ_"
   },
   "outputs": [],
   "source": [
    "import pandas as pd\n",
    "\n",
    "treino = pd.read_csv('https://raw.githubusercontent.com/cassiasamp/jul-20-calculadora-imoveis/master/analise_e_preprocessamento/treino_preprocessado.csv')\n",
    "teste = pd.read_csv('https://raw.githubusercontent.com/cassiasamp/jul-20-calculadora-imoveis/master/analise_e_preprocessamento/teste_preprocessado.csv')"
   ]
  },
  {
   "cell_type": "code",
   "execution_count": 4,
   "metadata": {
    "colab": {},
    "colab_type": "code",
    "id": "8el-AeKV9INq"
   },
   "outputs": [],
   "source": [
    "# dividindo os dados de treino e teste (X e y)\n",
    "\n",
    "X_train = treino.drop('precos', axis=1)\n",
    "y_train = treino['precos']\n",
    "X_test = teste.drop('precos', axis=1)\n",
    "y_test = teste['precos']"
   ]
  },
  {
   "cell_type": "markdown",
   "metadata": {
    "colab_type": "text",
    "id": "EhEkmbXmRD4F"
   },
   "source": [
    "### 3.2 Criando um modelo de base para comparar os resultados (baseline) "
   ]
  },
  {
   "cell_type": "code",
   "execution_count": 5,
   "metadata": {
    "colab": {
     "base_uri": "https://localhost:8080/",
     "height": 35
    },
    "colab_type": "code",
    "id": "pWm_9peL18_t",
    "outputId": "c02124c6-bc8d-4bf4-db66-5b162953f70f"
   },
   "outputs": [
    {
     "data": {
      "text/plain": [
       "0.04720566491073608"
      ]
     },
     "execution_count": 5,
     "metadata": {},
     "output_type": "execute_result"
    }
   ],
   "source": [
    "from sklearn.linear_model import LinearRegression\n",
    "\n",
    "lr = LinearRegression()\n",
    "lr.fit(X_train, y_train)\n",
    "lr.score(X_test, y_test)"
   ]
  },
  {
   "cell_type": "code",
   "execution_count": 6,
   "metadata": {},
   "outputs": [
    {
     "name": "stdout",
     "output_type": "stream",
     "text": [
      "mse: 2.674883341799502\n",
      "rmse: 1.635507059538265\n",
      "mae: 0.9879827322299511\n"
     ]
    }
   ],
   "source": [
    "from sklearn.metrics import mean_squared_error, mean_absolute_error\n",
    "import math \n",
    "\n",
    "lr = LinearRegression()\n",
    "lr.fit(X_train, y_train)\n",
    "lr_y_pred = lr.predict(X_test)\n",
    "\n",
    "mse = mean_squared_error(lr_y_pred, y_test)\n",
    "mae = mean_absolute_error(lr_y_pred, y_test)\n",
    "\n",
    "# olhando diferentes métricas\n",
    "print('mse:', mse)\n",
    "print('rmse:', math.sqrt(mse))\n",
    "print('mae:', mae)"
   ]
  },
  {
   "cell_type": "code",
   "execution_count": 7,
   "metadata": {
    "colab": {
     "base_uri": "https://localhost:8080/",
     "height": 35
    },
    "colab_type": "code",
    "id": "IDt3P5NYSTBb",
    "outputId": "b7123007-8ff3-4e5f-a6a8-e9886ba2359b"
   },
   "outputs": [
    {
     "data": {
      "text/plain": [
       "-0.002007697364269978"
      ]
     },
     "execution_count": 7,
     "metadata": {},
     "output_type": "execute_result"
    }
   ],
   "source": [
    "from sklearn.dummy import DummyRegressor\n",
    "\n",
    "reg = DummyRegressor(strategy='mean')\n",
    "reg.fit(X_train, y_train)\n",
    "reg.score(X_test, y_test)"
   ]
  },
  {
   "cell_type": "markdown",
   "metadata": {
    "colab_type": "text",
    "id": "QsHKsNbaSDPM"
   },
   "source": [
    "### 3.3 Comparando diferentes modelos de regressão (estimadores)"
   ]
  },
  {
   "cell_type": "code",
   "execution_count": 8,
   "metadata": {
    "colab": {},
    "colab_type": "code",
    "id": "uDpvo7Fs193_"
   },
   "outputs": [
    {
     "data": {
      "text/plain": [
       "'\\nfrom lightgbm import LGBMRegressor\\nfrom xgboost import XGBRegressor\\n'"
      ]
     },
     "execution_count": 8,
     "metadata": {},
     "output_type": "execute_result"
    }
   ],
   "source": [
    "from sklearn.linear_model import RidgeCV, Lasso, ElasticNet, LassoLars, HuberRegressor\n",
    "from sklearn.svm import SVR\n",
    "from sklearn.neighbors import KNeighborsRegressor\n",
    "from sklearn.ensemble import GradientBoostingRegressor, AdaBoostRegressor\n",
    "from sklearn.neural_network import MLPRegressor\n",
    "from sklearn.ensemble import RandomForestRegressor\n",
    "# se quiser, instalar e usar LGBM e XGBoost de fora do sklearn\n",
    "'''\n",
    "from lightgbm import LGBMRegressor\n",
    "from xgboost import XGBRegressor\n",
    "'''"
   ]
  },
  {
   "cell_type": "code",
   "execution_count": 9,
   "metadata": {
    "colab": {},
    "colab_type": "code",
    "id": "zE6jqA7019w8"
   },
   "outputs": [],
   "source": [
    "reg_list = [RidgeCV(),\n",
    "            SVR(),\n",
    "            KNeighborsRegressor(),\n",
    "            RandomForestRegressor(),\n",
    "            AdaBoostRegressor(),\n",
    "            GradientBoostingRegressor(),\n",
    "            MLPRegressor(),\n",
    "            # LGBMRegressor(), \n",
    "            # XGBRegressor(objective='reg:squarederror')\n",
    "            ]"
   ]
  },
  {
   "cell_type": "code",
   "execution_count": 10,
   "metadata": {
    "colab": {
     "base_uri": "https://localhost:8080/",
     "height": 1000
    },
    "colab_type": "code",
    "id": "_s-gvXW1Tc8a",
    "outputId": "51f9a9cc-6ed5-4409-e357-b0bacecc36ba"
   },
   "outputs": [
    {
     "name": "stdout",
     "output_type": "stream",
     "text": [
      "Treinando o modelo RidgeCV\n",
      "R² treino: 0.058279130292815395\n",
      "R² validação : 0.04 +- 0.04\n",
      "R² teste: 0.04744439035071979\n",
      "----------------------------------------------------------------------\n",
      "Treinando o modelo SVR\n",
      "R² treino: -0.07949786895442656\n",
      "R² validação : -0.08 +- 0.07\n",
      "R² teste: -0.14963259792443684\n",
      "----------------------------------------------------------------------\n",
      "Treinando o modelo KNeighborsRegressor\n",
      "R² treino: 0.33214615383275614\n",
      "R² validação : 0.05 +- 0.10\n",
      "R² teste: 0.018964882727984245\n",
      "----------------------------------------------------------------------\n",
      "Treinando o modelo RandomForestRegressor\n",
      "R² treino: 0.5015390336031905\n",
      "R² validação : -0.11 +- 0.08\n",
      "R² teste: 0.019797256519046957\n",
      "----------------------------------------------------------------------\n",
      "Treinando o modelo AdaBoostRegressor\n",
      "R² treino: 0.15415907375077342\n",
      "R² validação : -0.02 +- 0.13\n",
      "R² teste: 0.16330499770729257\n",
      "----------------------------------------------------------------------\n",
      "Treinando o modelo GradientBoostingRegressor\n",
      "R² treino: 0.37309520692494025\n",
      "R² validação : 0.10 +- 0.08\n",
      "R² teste: 0.11212228485989939\n",
      "----------------------------------------------------------------------\n",
      "Treinando o modelo MLPRegressor\n"
     ]
    },
    {
     "name": "stderr",
     "output_type": "stream",
     "text": [
      "c:\\users\\cássia\\appdata\\local\\programs\\python\\python38\\lib\\site-packages\\sklearn\\neural_network\\_multilayer_perceptron.py:582: ConvergenceWarning: Stochastic Optimizer: Maximum iterations (200) reached and the optimization hasn't converged yet.\n",
      "  warnings.warn(\n",
      "c:\\users\\cássia\\appdata\\local\\programs\\python\\python38\\lib\\site-packages\\sklearn\\neural_network\\_multilayer_perceptron.py:582: ConvergenceWarning: Stochastic Optimizer: Maximum iterations (200) reached and the optimization hasn't converged yet.\n",
      "  warnings.warn(\n",
      "c:\\users\\cássia\\appdata\\local\\programs\\python\\python38\\lib\\site-packages\\sklearn\\neural_network\\_multilayer_perceptron.py:582: ConvergenceWarning: Stochastic Optimizer: Maximum iterations (200) reached and the optimization hasn't converged yet.\n",
      "  warnings.warn(\n",
      "c:\\users\\cássia\\appdata\\local\\programs\\python\\python38\\lib\\site-packages\\sklearn\\neural_network\\_multilayer_perceptron.py:582: ConvergenceWarning: Stochastic Optimizer: Maximum iterations (200) reached and the optimization hasn't converged yet.\n",
      "  warnings.warn(\n",
      "c:\\users\\cássia\\appdata\\local\\programs\\python\\python38\\lib\\site-packages\\sklearn\\neural_network\\_multilayer_perceptron.py:582: ConvergenceWarning: Stochastic Optimizer: Maximum iterations (200) reached and the optimization hasn't converged yet.\n",
      "  warnings.warn(\n"
     ]
    },
    {
     "name": "stdout",
     "output_type": "stream",
     "text": [
      "R² treino: 0.12403097262882612\n",
      "R² validação : 0.06 +- 0.05\n",
      "R² teste: 0.09582210449811279\n",
      "----------------------------------------------------------------------\n"
     ]
    },
    {
     "name": "stderr",
     "output_type": "stream",
     "text": [
      "c:\\users\\cássia\\appdata\\local\\programs\\python\\python38\\lib\\site-packages\\sklearn\\neural_network\\_multilayer_perceptron.py:582: ConvergenceWarning: Stochastic Optimizer: Maximum iterations (200) reached and the optimization hasn't converged yet.\n",
      "  warnings.warn(\n"
     ]
    }
   ],
   "source": [
    "from sklearn.model_selection import cross_val_score\n",
    "import numpy as np\n",
    "\n",
    "for reg in reg_list:\n",
    "    print(f'Treinando o modelo {reg.__class__.__name__}')\n",
    "    reg.fit(X_train, y_train)\n",
    "    \n",
    "    train_score = reg.score(X_train, y_train)\n",
    "    cv_scores = cross_val_score(reg, X_train, y_train)\n",
    "    test_score = reg.score(X_test, y_test)\n",
    "    \n",
    "    print(f\"R² treino: {train_score}\")\n",
    "    print(f\"R² validação : {np.mean(cv_scores):.2f} +- {np.std(cv_scores):.2f}\")\n",
    "    print(f\"R² teste: {test_score}\")\n",
    "    print('-'*70)"
   ]
  },
  {
   "cell_type": "code",
   "execution_count": 11,
   "metadata": {
    "colab": {},
    "colab_type": "code",
    "id": "7JWKZZv8Tdec"
   },
   "outputs": [],
   "source": [
    "# Bonus: testando com todos os regressores do sklearn\n",
    "from sklearn.utils import all_estimators\n",
    "\n",
    "estimators = all_estimators(type_filter='regressor')\n",
    "\n",
    "relatorio = {'nome':[],\n",
    "             'train_score':[],\n",
    "             'cv_scores_mean':[],\n",
    "             'test_score':[],\n",
    "             'estimador':[]\n",
    "             }\n",
    "\n",
    "ignore_list = ['IsotonicRegression',\n",
    " 'MultiOutputRegressor',\n",
    " 'ElasticNet',\n",
    " 'MultiTaskElasticNet',\n",
    " 'MultiTaskElasticNetCV',\n",
    " 'MultiTaskLasso',\n",
    " 'MultiTaskLassoCV',\n",
    " 'RadiusNeighborsRegressor',\n",
    " 'RegressorChain',\n",
    " 'StackingRegressor',\n",
    " 'VotingRegressor']\n"
   ]
  },
  {
   "cell_type": "code",
   "execution_count": 12,
   "metadata": {
    "colab": {},
    "colab_type": "code",
    "id": "dxMCaBxI_Vx5"
   },
   "outputs": [
    {
     "data": {
      "text/plain": [
       "\"\\nestimators.extend(\\n    [('LGBMRegressor', LGBMRegressor),\\n     ('XGBRegressor', XGBRegressor)]\\n)\\n\""
      ]
     },
     "execution_count": 12,
     "metadata": {},
     "output_type": "execute_result"
    }
   ],
   "source": [
    "# Se quiser instalar e usar LGBM e XGBoost de fora do sklearn\n",
    "'''\n",
    "estimators.extend(\n",
    "    [('LGBMRegressor', LGBMRegressor),\n",
    "     ('XGBRegressor', XGBRegressor)]\n",
    ")\n",
    "'''"
   ]
  },
  {
   "cell_type": "code",
   "execution_count": 13,
   "metadata": {
    "colab": {
     "base_uri": "https://localhost:8080/",
     "height": 1000
    },
    "colab_type": "code",
    "id": "CApLK47B_T9u",
    "outputId": "b3b3a3fe-ee27-4dfa-9a6c-8c5104ab5eb5"
   },
   "outputs": [
    {
     "name": "stdout",
     "output_type": "stream",
     "text": [
      "Treinando o modelo ARDRegression\n",
      "R² treino: 0.05759197351645862\n",
      "R² validação: 0.04 +- 0.04\n",
      "R² teste: 0.04393513822413864\n",
      "----------------------------------------------------------------------\n",
      "Treinando o modelo AdaBoostRegressor\n",
      "R² treino: 0.13665066294490025\n",
      "R² validação: -0.03 +- 0.25\n",
      "R² teste: 0.10792412614968094\n",
      "----------------------------------------------------------------------\n",
      "Treinando o modelo BaggingRegressor\n",
      "R² treino: 0.46507680585289735\n",
      "R² validação: -0.08 +- 0.09\n",
      "R² teste: 0.04008234863960247\n",
      "----------------------------------------------------------------------\n",
      "Treinando o modelo BayesianRidge\n",
      "R² treino: 0.0575518169013477\n",
      "R² validação: 0.03 +- 0.04\n",
      "R² teste: 0.046282645852678383\n",
      "----------------------------------------------------------------------\n",
      "Treinando o modelo CCA\n",
      "R² treino: -0.14168611647313223\n",
      "R² validação: -0.21 +- 0.13\n",
      "R² teste: -0.08961699984651927\n",
      "----------------------------------------------------------------------\n",
      "Treinando o modelo DecisionTreeRegressor\n",
      "R² treino: 0.5358456344540199\n",
      "R² validação: -0.41 +- 0.09\n",
      "R² teste: -0.03629654343504796\n",
      "----------------------------------------------------------------------\n",
      "Treinando o modelo DummyRegressor\n",
      "R² treino: 0.0\n",
      "R² validação: -0.01 +- 0.00\n",
      "R² teste: -0.002007697364269978\n",
      "----------------------------------------------------------------------\n",
      "Treinando o modelo ElasticNetCV\n"
     ]
    },
    {
     "name": "stderr",
     "output_type": "stream",
     "text": [
      "c:\\users\\cássia\\appdata\\local\\programs\\python\\python38\\lib\\site-packages\\sklearn\\cross_decomposition\\_pls.py:323: UserWarning: Y residual constant at iteration 1\n",
      "  warnings.warn('Y residual constant at iteration %s' % k)\n",
      "c:\\users\\cássia\\appdata\\local\\programs\\python\\python38\\lib\\site-packages\\sklearn\\cross_decomposition\\_pls.py:323: UserWarning: Y residual constant at iteration 1\n",
      "  warnings.warn('Y residual constant at iteration %s' % k)\n",
      "c:\\users\\cássia\\appdata\\local\\programs\\python\\python38\\lib\\site-packages\\sklearn\\cross_decomposition\\_pls.py:323: UserWarning: Y residual constant at iteration 1\n",
      "  warnings.warn('Y residual constant at iteration %s' % k)\n",
      "c:\\users\\cássia\\appdata\\local\\programs\\python\\python38\\lib\\site-packages\\sklearn\\cross_decomposition\\_pls.py:323: UserWarning: Y residual constant at iteration 1\n",
      "  warnings.warn('Y residual constant at iteration %s' % k)\n",
      "c:\\users\\cássia\\appdata\\local\\programs\\python\\python38\\lib\\site-packages\\sklearn\\cross_decomposition\\_pls.py:323: UserWarning: Y residual constant at iteration 1\n",
      "  warnings.warn('Y residual constant at iteration %s' % k)\n",
      "c:\\users\\cássia\\appdata\\local\\programs\\python\\python38\\lib\\site-packages\\sklearn\\cross_decomposition\\_pls.py:323: UserWarning: Y residual constant at iteration 1\n",
      "  warnings.warn('Y residual constant at iteration %s' % k)\n"
     ]
    },
    {
     "name": "stdout",
     "output_type": "stream",
     "text": [
      "R² treino: 0.057951668406564516\n",
      "R² validação: 0.03 +- 0.04\n",
      "R² teste: 0.04652575743815024\n",
      "----------------------------------------------------------------------\n",
      "Treinando o modelo ExtraTreeRegressor\n",
      "R² treino: 0.5358456344540199\n",
      "R² validação: -0.36 +- 0.12\n",
      "R² teste: -0.02790036252492989\n",
      "----------------------------------------------------------------------\n",
      "Treinando o modelo ExtraTreesRegressor\n",
      "R² treino: 0.5358456344540199\n",
      "R² validação: -0.30 +- 0.05\n",
      "R² teste: 0.013903862182757187\n",
      "----------------------------------------------------------------------\n",
      "Treinando o modelo GammaRegressor\n",
      "R² treino: 0.013244917964521763\n",
      "R² validação: 0.00 +- 0.01\n",
      "R² teste: 0.005748739568734562\n",
      "----------------------------------------------------------------------\n",
      "Treinando o modelo GaussianProcessRegressor\n",
      "R² treino: 0.2999939142086606\n",
      "R² validação: -41077.01 +- 71499.51\n",
      "R² teste: -8984.963556033335\n",
      "----------------------------------------------------------------------\n",
      "Treinando o modelo GradientBoostingRegressor\n",
      "R² treino: 0.37538041711674\n",
      "R² validação: 0.10 +- 0.08\n",
      "R² teste: 0.11255198828470148\n",
      "----------------------------------------------------------------------\n",
      "Treinando o modelo HistGradientBoostingRegressor\n",
      "R² treino: 0.36529903291541277\n",
      "R² validação: 0.06 +- 0.06\n",
      "R² teste: 0.05681255984413058\n",
      "----------------------------------------------------------------------\n",
      "Treinando o modelo HuberRegressor\n",
      "R² treino: -0.09622137476825854\n",
      "R² validação: -0.09 +- 0.10\n",
      "R² teste: -0.14669521157837329\n",
      "----------------------------------------------------------------------\n",
      "Treinando o modelo KNeighborsRegressor\n",
      "R² treino: 0.33214615383275614\n",
      "R² validação: 0.05 +- 0.10\n",
      "R² teste: 0.018964882727984245\n",
      "----------------------------------------------------------------------\n",
      "Treinando o modelo KernelRidge\n",
      "R² treino: 0.04423945144886188\n",
      "R² validação: 0.02 +- 0.06\n",
      "R² teste: 0.019152595963850327\n",
      "----------------------------------------------------------------------\n",
      "Treinando o modelo Lars\n",
      "R² treino: 0.05830394124376248\n",
      "R² validação: 0.04 +- 0.04\n",
      "R² teste: 0.047588109891051444\n",
      "----------------------------------------------------------------------\n",
      "Treinando o modelo LarsCV\n",
      "R² treino: 0.057193443881382255\n",
      "R² validação: 0.03 +- 0.03\n",
      "R² teste: 0.045530143340438034\n",
      "----------------------------------------------------------------------\n",
      "Treinando o modelo Lasso\n",
      "R² treino: 0.0\n",
      "R² validação: -0.01 +- 0.00\n",
      "R² teste: -0.002007697364269978\n",
      "----------------------------------------------------------------------\n",
      "Treinando o modelo LassoCV\n",
      "R² treino: 0.05748615127132417\n",
      "R² validação: 0.04 +- 0.04\n",
      "R² teste: 0.04537663568762407\n",
      "----------------------------------------------------------------------\n",
      "Treinando o modelo LassoLars\n",
      "R² treino: 0.0\n",
      "R² validação: -0.01 +- 0.00\n",
      "R² teste: -0.002007697364269978\n",
      "----------------------------------------------------------------------\n",
      "Treinando o modelo LassoLarsCV\n",
      "R² treino: 0.057193443881382255\n",
      "R² validação: 0.03 +- 0.03\n",
      "R² teste: 0.045530143340438034\n",
      "----------------------------------------------------------------------\n",
      "Treinando o modelo LassoLarsIC\n",
      "R² treino: 0.057609639712898675\n",
      "R² validação: 0.04 +- 0.04\n",
      "R² teste: 0.04620528542106184\n",
      "----------------------------------------------------------------------\n",
      "Treinando o modelo LinearRegression\n",
      "R² treino: 0.058273047437561676\n",
      "R² validação: 0.04 +- 0.04\n",
      "R² teste: 0.04720566491073608\n",
      "----------------------------------------------------------------------\n",
      "Treinando o modelo LinearSVR\n",
      "R² treino: -0.11464749547110098\n",
      "R² validação: -0.11 +- 0.10\n",
      "R² teste: -0.16803875947830815\n",
      "----------------------------------------------------------------------\n",
      "Treinando o modelo MLPRegressor\n"
     ]
    },
    {
     "name": "stderr",
     "output_type": "stream",
     "text": [
      "c:\\users\\cássia\\appdata\\local\\programs\\python\\python38\\lib\\site-packages\\sklearn\\svm\\_base.py:976: ConvergenceWarning: Liblinear failed to converge, increase the number of iterations.\n",
      "  warnings.warn(\"Liblinear failed to converge, increase \"\n",
      "c:\\users\\cássia\\appdata\\local\\programs\\python\\python38\\lib\\site-packages\\sklearn\\svm\\_base.py:976: ConvergenceWarning: Liblinear failed to converge, increase the number of iterations.\n",
      "  warnings.warn(\"Liblinear failed to converge, increase \"\n",
      "c:\\users\\cássia\\appdata\\local\\programs\\python\\python38\\lib\\site-packages\\sklearn\\svm\\_base.py:976: ConvergenceWarning: Liblinear failed to converge, increase the number of iterations.\n",
      "  warnings.warn(\"Liblinear failed to converge, increase \"\n",
      "c:\\users\\cássia\\appdata\\local\\programs\\python\\python38\\lib\\site-packages\\sklearn\\svm\\_base.py:976: ConvergenceWarning: Liblinear failed to converge, increase the number of iterations.\n",
      "  warnings.warn(\"Liblinear failed to converge, increase \"\n",
      "c:\\users\\cássia\\appdata\\local\\programs\\python\\python38\\lib\\site-packages\\sklearn\\svm\\_base.py:976: ConvergenceWarning: Liblinear failed to converge, increase the number of iterations.\n",
      "  warnings.warn(\"Liblinear failed to converge, increase \"\n",
      "c:\\users\\cássia\\appdata\\local\\programs\\python\\python38\\lib\\site-packages\\sklearn\\svm\\_base.py:976: ConvergenceWarning: Liblinear failed to converge, increase the number of iterations.\n",
      "  warnings.warn(\"Liblinear failed to converge, increase \"\n",
      "c:\\users\\cássia\\appdata\\local\\programs\\python\\python38\\lib\\site-packages\\sklearn\\neural_network\\_multilayer_perceptron.py:582: ConvergenceWarning: Stochastic Optimizer: Maximum iterations (200) reached and the optimization hasn't converged yet.\n",
      "  warnings.warn(\n",
      "c:\\users\\cássia\\appdata\\local\\programs\\python\\python38\\lib\\site-packages\\sklearn\\neural_network\\_multilayer_perceptron.py:582: ConvergenceWarning: Stochastic Optimizer: Maximum iterations (200) reached and the optimization hasn't converged yet.\n",
      "  warnings.warn(\n",
      "c:\\users\\cássia\\appdata\\local\\programs\\python\\python38\\lib\\site-packages\\sklearn\\neural_network\\_multilayer_perceptron.py:582: ConvergenceWarning: Stochastic Optimizer: Maximum iterations (200) reached and the optimization hasn't converged yet.\n",
      "  warnings.warn(\n",
      "c:\\users\\cássia\\appdata\\local\\programs\\python\\python38\\lib\\site-packages\\sklearn\\neural_network\\_multilayer_perceptron.py:582: ConvergenceWarning: Stochastic Optimizer: Maximum iterations (200) reached and the optimization hasn't converged yet.\n",
      "  warnings.warn(\n",
      "c:\\users\\cássia\\appdata\\local\\programs\\python\\python38\\lib\\site-packages\\sklearn\\neural_network\\_multilayer_perceptron.py:582: ConvergenceWarning: Stochastic Optimizer: Maximum iterations (200) reached and the optimization hasn't converged yet.\n",
      "  warnings.warn(\n",
      "c:\\users\\cássia\\appdata\\local\\programs\\python\\python38\\lib\\site-packages\\sklearn\\neural_network\\_multilayer_perceptron.py:582: ConvergenceWarning: Stochastic Optimizer: Maximum iterations (200) reached and the optimization hasn't converged yet.\n",
      "  warnings.warn(\n"
     ]
    },
    {
     "name": "stdout",
     "output_type": "stream",
     "text": [
      "R² treino: 0.11855612825435591\n",
      "R² validação: 0.06 +- 0.05\n",
      "R² teste: 0.10222860610164675\n",
      "----------------------------------------------------------------------\n",
      "Treinando o modelo NuSVR\n",
      "R² treino: -0.05040758236035536\n",
      "R² validação: -0.05 +- 0.06\n",
      "R² teste: -0.12545548141175433\n",
      "----------------------------------------------------------------------\n",
      "Treinando o modelo OrthogonalMatchingPursuit\n",
      "R² treino: 0.016657217623550546\n",
      "R² validação: 0.00 +- 0.03\n",
      "R² teste: 0.025977140149567868\n",
      "----------------------------------------------------------------------\n",
      "Treinando o modelo OrthogonalMatchingPursuitCV\n",
      "R² treino: 0.05799513819889024\n",
      "R² validação: 0.04 +- 0.04\n",
      "R² teste: 0.04458537333858825\n",
      "----------------------------------------------------------------------\n",
      "Treinando o modelo PLSCanonical\n",
      "R² treino: -0.5023405627469897\n",
      "R² validação: -0.70 +- 0.45\n",
      "R² teste: -0.3189214848941966\n",
      "----------------------------------------------------------------------\n",
      "Treinando o modelo PLSRegression\n"
     ]
    },
    {
     "name": "stderr",
     "output_type": "stream",
     "text": [
      "c:\\users\\cássia\\appdata\\local\\programs\\python\\python38\\lib\\site-packages\\sklearn\\cross_decomposition\\_pls.py:323: UserWarning: Y residual constant at iteration 1\n",
      "  warnings.warn('Y residual constant at iteration %s' % k)\n",
      "c:\\users\\cássia\\appdata\\local\\programs\\python\\python38\\lib\\site-packages\\sklearn\\cross_decomposition\\_pls.py:323: UserWarning: Y residual constant at iteration 1\n",
      "  warnings.warn('Y residual constant at iteration %s' % k)\n",
      "c:\\users\\cássia\\appdata\\local\\programs\\python\\python38\\lib\\site-packages\\sklearn\\cross_decomposition\\_pls.py:323: UserWarning: Y residual constant at iteration 1\n",
      "  warnings.warn('Y residual constant at iteration %s' % k)\n",
      "c:\\users\\cássia\\appdata\\local\\programs\\python\\python38\\lib\\site-packages\\sklearn\\cross_decomposition\\_pls.py:323: UserWarning: Y residual constant at iteration 1\n",
      "  warnings.warn('Y residual constant at iteration %s' % k)\n",
      "c:\\users\\cássia\\appdata\\local\\programs\\python\\python38\\lib\\site-packages\\sklearn\\cross_decomposition\\_pls.py:323: UserWarning: Y residual constant at iteration 1\n",
      "  warnings.warn('Y residual constant at iteration %s' % k)\n",
      "c:\\users\\cássia\\appdata\\local\\programs\\python\\python38\\lib\\site-packages\\sklearn\\cross_decomposition\\_pls.py:323: UserWarning: Y residual constant at iteration 1\n",
      "  warnings.warn('Y residual constant at iteration %s' % k)\n"
     ]
    },
    {
     "name": "stdout",
     "output_type": "stream",
     "text": [
      "R² treino: 0.05722552436031314\n",
      "R² validação: 0.03 +- 0.04\n",
      "R² teste: 0.046126311570245604\n",
      "----------------------------------------------------------------------\n",
      "Treinando o modelo PassiveAggressiveRegressor\n",
      "R² treino: -0.06780259778860609\n",
      "R² validação: -0.35 +- 0.50\n",
      "R² teste: -0.0511681458895632\n",
      "----------------------------------------------------------------------\n",
      "Treinando o modelo PoissonRegressor\n",
      "R² treino: 0.039525582531012904\n",
      "R² validação: 0.02 +- 0.02\n",
      "R² teste: 0.027897447144874077\n",
      "----------------------------------------------------------------------\n",
      "Treinando o modelo RANSACRegressor\n",
      "R² treino: -0.16886472416505893\n",
      "R² validação: -0.13 +- 0.09\n",
      "R² teste: -0.2197741805546194\n",
      "----------------------------------------------------------------------\n",
      "Treinando o modelo RandomForestRegressor\n",
      "R² treino: 0.5011499827135462\n",
      "R² validação: -0.09 +- 0.08\n",
      "R² teste: 0.023441244497903524\n",
      "----------------------------------------------------------------------\n",
      "Treinando o modelo Ridge\n",
      "R² treino: 0.05827913029281517\n",
      "R² validação: 0.04 +- 0.04\n",
      "R² teste: 0.0474443903507189\n",
      "----------------------------------------------------------------------\n",
      "Treinando o modelo RidgeCV\n",
      "R² treino: 0.058279130292815395\n",
      "R² validação: 0.04 +- 0.04\n",
      "R² teste: 0.04744439035071979\n",
      "----------------------------------------------------------------------\n",
      "Treinando o modelo SGDRegressor\n",
      "R² treino: 0.03208133955952297\n",
      "R² validação: 0.01 +- 0.05\n",
      "R² teste: 0.0010012192655006746\n",
      "----------------------------------------------------------------------\n",
      "Treinando o modelo SVR\n",
      "R² treino: -0.07949786895442656\n",
      "R² validação: -0.08 +- 0.07\n",
      "R² teste: -0.14963259792443684\n",
      "----------------------------------------------------------------------\n",
      "Treinando o modelo TheilSenRegressor\n",
      "R² treino: -0.10393246623021257\n",
      "R² validação: -0.11 +- 0.10\n",
      "R² teste: -0.14998923483205773\n",
      "----------------------------------------------------------------------\n",
      "Treinando o modelo TransformedTargetRegressor\n",
      "R² treino: 0.058273047437561676\n",
      "R² validação: 0.04 +- 0.04\n",
      "R² teste: 0.04720566491073608\n",
      "----------------------------------------------------------------------\n",
      "Treinando o modelo TweedieRegressor\n",
      "R² treino: 0.010564774824631695\n",
      "R² validação: 0.00 +- 0.01\n",
      "R² teste: 0.004423262129781613\n",
      "----------------------------------------------------------------------\n"
     ]
    }
   ],
   "source": [
    "for name, RegressorClass in estimators:\n",
    "    if name not in ignore_list:\n",
    "        print(f'Treinando o modelo {name}')\n",
    "        reg = RegressorClass()\n",
    "        reg.fit(X_train, y_train)\n",
    "\n",
    "        train_score = reg.score(X_train, y_train)\n",
    "        cv_scores = cross_val_score(reg, X_train, y_train)\n",
    "        test_score = reg.score(X_test, y_test)\n",
    "\n",
    "        print(f\"R² treino: {train_score}\")\n",
    "        print(f\"R² validação: {np.mean(cv_scores):.2f} +- {np.std(cv_scores):.2f}\")\n",
    "        print(f\"R² teste: {test_score}\")\n",
    "        print('-'*70)\n",
    "\n",
    "        relatorio['nome'].append(name)\n",
    "        relatorio['train_score'].append(train_score)\n",
    "        relatorio['cv_scores_mean'].append(np.mean(cv_scores))\n",
    "        relatorio['test_score'].append(test_score)\n",
    "        relatorio['estimador'].append(reg)"
   ]
  },
  {
   "cell_type": "code",
   "execution_count": 14,
   "metadata": {
    "colab": {
     "base_uri": "https://localhost:8080/",
     "height": 437
    },
    "colab_type": "code",
    "id": "bbdGuVWkbxQ6",
    "outputId": "3e92ba44-50f4-477d-97b1-a2948483eff9"
   },
   "outputs": [
    {
     "data": {
      "text/html": [
       "<div>\n",
       "<style scoped>\n",
       "    .dataframe tbody tr th:only-of-type {\n",
       "        vertical-align: middle;\n",
       "    }\n",
       "\n",
       "    .dataframe tbody tr th {\n",
       "        vertical-align: top;\n",
       "    }\n",
       "\n",
       "    .dataframe thead th {\n",
       "        text-align: right;\n",
       "    }\n",
       "</style>\n",
       "<table border=\"1\" class=\"dataframe\">\n",
       "  <thead>\n",
       "    <tr style=\"text-align: right;\">\n",
       "      <th></th>\n",
       "      <th>nome</th>\n",
       "      <th>train_score</th>\n",
       "      <th>cv_scores_mean</th>\n",
       "      <th>test_score</th>\n",
       "      <th>estimador</th>\n",
       "    </tr>\n",
       "  </thead>\n",
       "  <tbody>\n",
       "    <tr>\n",
       "      <th>12</th>\n",
       "      <td>GradientBoostingRegressor</td>\n",
       "      <td>0.375380</td>\n",
       "      <td>0.102035</td>\n",
       "      <td>0.112552</td>\n",
       "      <td>([DecisionTreeRegressor(criterion='friedman_ms...</td>\n",
       "    </tr>\n",
       "    <tr>\n",
       "      <th>26</th>\n",
       "      <td>MLPRegressor</td>\n",
       "      <td>0.118556</td>\n",
       "      <td>0.062883</td>\n",
       "      <td>0.102229</td>\n",
       "      <td>MLPRegressor()</td>\n",
       "    </tr>\n",
       "    <tr>\n",
       "      <th>13</th>\n",
       "      <td>HistGradientBoostingRegressor</td>\n",
       "      <td>0.365299</td>\n",
       "      <td>0.059519</td>\n",
       "      <td>0.056813</td>\n",
       "      <td>HistGradientBoostingRegressor()</td>\n",
       "    </tr>\n",
       "    <tr>\n",
       "      <th>15</th>\n",
       "      <td>KNeighborsRegressor</td>\n",
       "      <td>0.332146</td>\n",
       "      <td>0.053958</td>\n",
       "      <td>0.018965</td>\n",
       "      <td>KNeighborsRegressor()</td>\n",
       "    </tr>\n",
       "    <tr>\n",
       "      <th>0</th>\n",
       "      <td>ARDRegression</td>\n",
       "      <td>0.057592</td>\n",
       "      <td>0.038585</td>\n",
       "      <td>0.043935</td>\n",
       "      <td>ARDRegression()</td>\n",
       "    </tr>\n",
       "    <tr>\n",
       "      <th>29</th>\n",
       "      <td>OrthogonalMatchingPursuitCV</td>\n",
       "      <td>0.057995</td>\n",
       "      <td>0.038539</td>\n",
       "      <td>0.044585</td>\n",
       "      <td>OrthogonalMatchingPursuitCV()</td>\n",
       "    </tr>\n",
       "    <tr>\n",
       "      <th>23</th>\n",
       "      <td>LassoLarsIC</td>\n",
       "      <td>0.057610</td>\n",
       "      <td>0.036215</td>\n",
       "      <td>0.046205</td>\n",
       "      <td>LassoLarsIC()</td>\n",
       "    </tr>\n",
       "    <tr>\n",
       "      <th>37</th>\n",
       "      <td>RidgeCV</td>\n",
       "      <td>0.058279</td>\n",
       "      <td>0.035680</td>\n",
       "      <td>0.047444</td>\n",
       "      <td>RidgeCV(alphas=array([ 0.1,  1. , 10. ]))</td>\n",
       "    </tr>\n",
       "    <tr>\n",
       "      <th>36</th>\n",
       "      <td>Ridge</td>\n",
       "      <td>0.058279</td>\n",
       "      <td>0.035680</td>\n",
       "      <td>0.047444</td>\n",
       "      <td>Ridge()</td>\n",
       "    </tr>\n",
       "    <tr>\n",
       "      <th>17</th>\n",
       "      <td>Lars</td>\n",
       "      <td>0.058304</td>\n",
       "      <td>0.035478</td>\n",
       "      <td>0.047588</td>\n",
       "      <td>Lars()</td>\n",
       "    </tr>\n",
       "  </tbody>\n",
       "</table>\n",
       "</div>"
      ],
      "text/plain": [
       "                             nome  train_score  cv_scores_mean  test_score  \\\n",
       "12      GradientBoostingRegressor     0.375380        0.102035    0.112552   \n",
       "26                   MLPRegressor     0.118556        0.062883    0.102229   \n",
       "13  HistGradientBoostingRegressor     0.365299        0.059519    0.056813   \n",
       "15            KNeighborsRegressor     0.332146        0.053958    0.018965   \n",
       "0                   ARDRegression     0.057592        0.038585    0.043935   \n",
       "29    OrthogonalMatchingPursuitCV     0.057995        0.038539    0.044585   \n",
       "23                    LassoLarsIC     0.057610        0.036215    0.046205   \n",
       "37                        RidgeCV     0.058279        0.035680    0.047444   \n",
       "36                          Ridge     0.058279        0.035680    0.047444   \n",
       "17                           Lars     0.058304        0.035478    0.047588   \n",
       "\n",
       "                                            estimador  \n",
       "12  ([DecisionTreeRegressor(criterion='friedman_ms...  \n",
       "26                                     MLPRegressor()  \n",
       "13                    HistGradientBoostingRegressor()  \n",
       "15                              KNeighborsRegressor()  \n",
       "0                                     ARDRegression()  \n",
       "29                      OrthogonalMatchingPursuitCV()  \n",
       "23                                      LassoLarsIC()  \n",
       "37          RidgeCV(alphas=array([ 0.1,  1. , 10. ]))  \n",
       "36                                            Ridge()  \n",
       "17                                             Lars()  "
      ]
     },
     "execution_count": 14,
     "metadata": {},
     "output_type": "execute_result"
    }
   ],
   "source": [
    "relatorio = pd.DataFrame(relatorio).sort_values(by='cv_scores_mean', ascending=False)\n",
    "relatorio.head(10)"
   ]
  },
  {
   "cell_type": "markdown",
   "metadata": {
    "colab_type": "text",
    "id": "ooicjozH-CdH"
   },
   "source": [
    "### 3.4 TBD: calibrando melhores estimadores usando GridSearchCV"
   ]
  },
  {
   "cell_type": "code",
   "execution_count": 15,
   "metadata": {
    "colab": {},
    "colab_type": "code",
    "id": "iH1s0ADL-cyS"
   },
   "outputs": [],
   "source": [
    "## Usar GridSearchCV para calibrar os melhores estimadores"
   ]
  },
  {
   "cell_type": "markdown",
   "metadata": {
    "colab_type": "text",
    "id": "KZqXRTdf-jx_"
   },
   "source": [
    "### 3.5 (Opcional) Combinando os melhores estimadores usando stacking"
   ]
  },
  {
   "cell_type": "code",
   "execution_count": 16,
   "metadata": {
    "colab": {
     "base_uri": "https://localhost:8080/",
     "height": 815
    },
    "colab_type": "code",
    "id": "8qQQOpXIg-K9",
    "outputId": "b0f2b0cd-d317-4d9f-e0b2-3cf77d1fffa0"
   },
   "outputs": [
    {
     "name": "stderr",
     "output_type": "stream",
     "text": [
      "c:\\users\\cássia\\appdata\\local\\programs\\python\\python38\\lib\\site-packages\\sklearn\\neural_network\\_multilayer_perceptron.py:582: ConvergenceWarning: Stochastic Optimizer: Maximum iterations (200) reached and the optimization hasn't converged yet.\n",
      "  warnings.warn(\n",
      "c:\\users\\cássia\\appdata\\local\\programs\\python\\python38\\lib\\site-packages\\sklearn\\neural_network\\_multilayer_perceptron.py:582: ConvergenceWarning: Stochastic Optimizer: Maximum iterations (200) reached and the optimization hasn't converged yet.\n",
      "  warnings.warn(\n",
      "c:\\users\\cássia\\appdata\\local\\programs\\python\\python38\\lib\\site-packages\\sklearn\\neural_network\\_multilayer_perceptron.py:582: ConvergenceWarning: Stochastic Optimizer: Maximum iterations (200) reached and the optimization hasn't converged yet.\n",
      "  warnings.warn(\n",
      "c:\\users\\cássia\\appdata\\local\\programs\\python\\python38\\lib\\site-packages\\sklearn\\neural_network\\_multilayer_perceptron.py:582: ConvergenceWarning: Stochastic Optimizer: Maximum iterations (200) reached and the optimization hasn't converged yet.\n",
      "  warnings.warn(\n",
      "c:\\users\\cássia\\appdata\\local\\programs\\python\\python38\\lib\\site-packages\\sklearn\\neural_network\\_multilayer_perceptron.py:582: ConvergenceWarning: Stochastic Optimizer: Maximum iterations (200) reached and the optimization hasn't converged yet.\n",
      "  warnings.warn(\n",
      "c:\\users\\cássia\\appdata\\local\\programs\\python\\python38\\lib\\site-packages\\sklearn\\neural_network\\_multilayer_perceptron.py:582: ConvergenceWarning: Stochastic Optimizer: Maximum iterations (200) reached and the optimization hasn't converged yet.\n",
      "  warnings.warn(\n",
      "c:\\users\\cássia\\appdata\\local\\programs\\python\\python38\\lib\\site-packages\\sklearn\\neural_network\\_multilayer_perceptron.py:582: ConvergenceWarning: Stochastic Optimizer: Maximum iterations (200) reached and the optimization hasn't converged yet.\n",
      "  warnings.warn(\n",
      "c:\\users\\cássia\\appdata\\local\\programs\\python\\python38\\lib\\site-packages\\sklearn\\neural_network\\_multilayer_perceptron.py:582: ConvergenceWarning: Stochastic Optimizer: Maximum iterations (200) reached and the optimization hasn't converged yet.\n",
      "  warnings.warn(\n",
      "c:\\users\\cássia\\appdata\\local\\programs\\python\\python38\\lib\\site-packages\\sklearn\\neural_network\\_multilayer_perceptron.py:582: ConvergenceWarning: Stochastic Optimizer: Maximum iterations (200) reached and the optimization hasn't converged yet.\n",
      "  warnings.warn(\n",
      "c:\\users\\cássia\\appdata\\local\\programs\\python\\python38\\lib\\site-packages\\sklearn\\neural_network\\_multilayer_perceptron.py:582: ConvergenceWarning: Stochastic Optimizer: Maximum iterations (200) reached and the optimization hasn't converged yet.\n",
      "  warnings.warn(\n",
      "c:\\users\\cássia\\appdata\\local\\programs\\python\\python38\\lib\\site-packages\\sklearn\\neural_network\\_multilayer_perceptron.py:582: ConvergenceWarning: Stochastic Optimizer: Maximum iterations (200) reached and the optimization hasn't converged yet.\n",
      "  warnings.warn(\n",
      "c:\\users\\cássia\\appdata\\local\\programs\\python\\python38\\lib\\site-packages\\sklearn\\neural_network\\_multilayer_perceptron.py:582: ConvergenceWarning: Stochastic Optimizer: Maximum iterations (200) reached and the optimization hasn't converged yet.\n",
      "  warnings.warn(\n",
      "c:\\users\\cássia\\appdata\\local\\programs\\python\\python38\\lib\\site-packages\\sklearn\\neural_network\\_multilayer_perceptron.py:582: ConvergenceWarning: Stochastic Optimizer: Maximum iterations (200) reached and the optimization hasn't converged yet.\n",
      "  warnings.warn(\n",
      "c:\\users\\cássia\\appdata\\local\\programs\\python\\python38\\lib\\site-packages\\sklearn\\neural_network\\_multilayer_perceptron.py:582: ConvergenceWarning: Stochastic Optimizer: Maximum iterations (200) reached and the optimization hasn't converged yet.\n",
      "  warnings.warn(\n",
      "c:\\users\\cássia\\appdata\\local\\programs\\python\\python38\\lib\\site-packages\\sklearn\\neural_network\\_multilayer_perceptron.py:582: ConvergenceWarning: Stochastic Optimizer: Maximum iterations (200) reached and the optimization hasn't converged yet.\n",
      "  warnings.warn(\n",
      "c:\\users\\cássia\\appdata\\local\\programs\\python\\python38\\lib\\site-packages\\sklearn\\neural_network\\_multilayer_perceptron.py:582: ConvergenceWarning: Stochastic Optimizer: Maximum iterations (200) reached and the optimization hasn't converged yet.\n",
      "  warnings.warn(\n",
      "c:\\users\\cássia\\appdata\\local\\programs\\python\\python38\\lib\\site-packages\\sklearn\\neural_network\\_multilayer_perceptron.py:582: ConvergenceWarning: Stochastic Optimizer: Maximum iterations (200) reached and the optimization hasn't converged yet.\n",
      "  warnings.warn(\n",
      "c:\\users\\cássia\\appdata\\local\\programs\\python\\python38\\lib\\site-packages\\sklearn\\neural_network\\_multilayer_perceptron.py:582: ConvergenceWarning: Stochastic Optimizer: Maximum iterations (200) reached and the optimization hasn't converged yet.\n",
      "  warnings.warn(\n",
      "c:\\users\\cássia\\appdata\\local\\programs\\python\\python38\\lib\\site-packages\\sklearn\\neural_network\\_multilayer_perceptron.py:582: ConvergenceWarning: Stochastic Optimizer: Maximum iterations (200) reached and the optimization hasn't converged yet.\n",
      "  warnings.warn(\n",
      "c:\\users\\cássia\\appdata\\local\\programs\\python\\python38\\lib\\site-packages\\sklearn\\neural_network\\_multilayer_perceptron.py:582: ConvergenceWarning: Stochastic Optimizer: Maximum iterations (200) reached and the optimization hasn't converged yet.\n",
      "  warnings.warn(\n",
      "c:\\users\\cássia\\appdata\\local\\programs\\python\\python38\\lib\\site-packages\\sklearn\\neural_network\\_multilayer_perceptron.py:582: ConvergenceWarning: Stochastic Optimizer: Maximum iterations (200) reached and the optimization hasn't converged yet.\n",
      "  warnings.warn(\n",
      "c:\\users\\cássia\\appdata\\local\\programs\\python\\python38\\lib\\site-packages\\sklearn\\neural_network\\_multilayer_perceptron.py:582: ConvergenceWarning: Stochastic Optimizer: Maximum iterations (200) reached and the optimization hasn't converged yet.\n",
      "  warnings.warn(\n",
      "c:\\users\\cássia\\appdata\\local\\programs\\python\\python38\\lib\\site-packages\\sklearn\\neural_network\\_multilayer_perceptron.py:582: ConvergenceWarning: Stochastic Optimizer: Maximum iterations (200) reached and the optimization hasn't converged yet.\n",
      "  warnings.warn(\n",
      "c:\\users\\cássia\\appdata\\local\\programs\\python\\python38\\lib\\site-packages\\sklearn\\neural_network\\_multilayer_perceptron.py:582: ConvergenceWarning: Stochastic Optimizer: Maximum iterations (200) reached and the optimization hasn't converged yet.\n",
      "  warnings.warn(\n",
      "c:\\users\\cássia\\appdata\\local\\programs\\python\\python38\\lib\\site-packages\\sklearn\\neural_network\\_multilayer_perceptron.py:582: ConvergenceWarning: Stochastic Optimizer: Maximum iterations (200) reached and the optimization hasn't converged yet.\n",
      "  warnings.warn(\n",
      "c:\\users\\cássia\\appdata\\local\\programs\\python\\python38\\lib\\site-packages\\sklearn\\neural_network\\_multilayer_perceptron.py:582: ConvergenceWarning: Stochastic Optimizer: Maximum iterations (200) reached and the optimization hasn't converged yet.\n",
      "  warnings.warn(\n",
      "c:\\users\\cássia\\appdata\\local\\programs\\python\\python38\\lib\\site-packages\\sklearn\\neural_network\\_multilayer_perceptron.py:582: ConvergenceWarning: Stochastic Optimizer: Maximum iterations (200) reached and the optimization hasn't converged yet.\n",
      "  warnings.warn(\n",
      "c:\\users\\cássia\\appdata\\local\\programs\\python\\python38\\lib\\site-packages\\sklearn\\neural_network\\_multilayer_perceptron.py:582: ConvergenceWarning: Stochastic Optimizer: Maximum iterations (200) reached and the optimization hasn't converged yet.\n",
      "  warnings.warn(\n",
      "c:\\users\\cássia\\appdata\\local\\programs\\python\\python38\\lib\\site-packages\\sklearn\\neural_network\\_multilayer_perceptron.py:582: ConvergenceWarning: Stochastic Optimizer: Maximum iterations (200) reached and the optimization hasn't converged yet.\n",
      "  warnings.warn(\n",
      "c:\\users\\cássia\\appdata\\local\\programs\\python\\python38\\lib\\site-packages\\sklearn\\neural_network\\_multilayer_perceptron.py:582: ConvergenceWarning: Stochastic Optimizer: Maximum iterations (200) reached and the optimization hasn't converged yet.\n",
      "  warnings.warn(\n",
      "c:\\users\\cássia\\appdata\\local\\programs\\python\\python38\\lib\\site-packages\\sklearn\\neural_network\\_multilayer_perceptron.py:582: ConvergenceWarning: Stochastic Optimizer: Maximum iterations (200) reached and the optimization hasn't converged yet.\n",
      "  warnings.warn(\n",
      "c:\\users\\cássia\\appdata\\local\\programs\\python\\python38\\lib\\site-packages\\sklearn\\neural_network\\_multilayer_perceptron.py:582: ConvergenceWarning: Stochastic Optimizer: Maximum iterations (200) reached and the optimization hasn't converged yet.\n",
      "  warnings.warn(\n",
      "c:\\users\\cássia\\appdata\\local\\programs\\python\\python38\\lib\\site-packages\\sklearn\\neural_network\\_multilayer_perceptron.py:582: ConvergenceWarning: Stochastic Optimizer: Maximum iterations (200) reached and the optimization hasn't converged yet.\n",
      "  warnings.warn(\n",
      "c:\\users\\cássia\\appdata\\local\\programs\\python\\python38\\lib\\site-packages\\sklearn\\neural_network\\_multilayer_perceptron.py:582: ConvergenceWarning: Stochastic Optimizer: Maximum iterations (200) reached and the optimization hasn't converged yet.\n",
      "  warnings.warn(\n",
      "c:\\users\\cássia\\appdata\\local\\programs\\python\\python38\\lib\\site-packages\\sklearn\\neural_network\\_multilayer_perceptron.py:582: ConvergenceWarning: Stochastic Optimizer: Maximum iterations (200) reached and the optimization hasn't converged yet.\n",
      "  warnings.warn(\n",
      "c:\\users\\cássia\\appdata\\local\\programs\\python\\python38\\lib\\site-packages\\sklearn\\neural_network\\_multilayer_perceptron.py:582: ConvergenceWarning: Stochastic Optimizer: Maximum iterations (200) reached and the optimization hasn't converged yet.\n",
      "  warnings.warn(\n"
     ]
    },
    {
     "name": "stdout",
     "output_type": "stream",
     "text": [
      "R² treino: 0.3195963806254857\n",
      "R² validação: 0.11 +- 0.03\n",
      "R² teste: 0.11460479152161673\n",
      "----------------------------------------------------------------------\n"
     ]
    }
   ],
   "source": [
    "from sklearn.ensemble import StackingRegressor\n",
    "\n",
    "top_3_regs = relatorio[['nome', 'estimador']].values[:3]\n",
    "\n",
    "reg = StackingRegressor(\n",
    "    estimators = top_3_regs\n",
    ")\n",
    "\n",
    "reg.fit(X_train, y_train)\n",
    "\n",
    "train_score = reg.score(X_train, y_train)\n",
    "cv_scores = cross_val_score(reg, X_train, y_train)\n",
    "test_score = reg.score(X_test, y_test)\n",
    "\n",
    "print(f\"R² treino: {train_score}\")\n",
    "print(f\"R² validação: {np.mean(cv_scores):.2f} +- {np.std(cv_scores):.2f}\")\n",
    "print(f\"R² teste: {test_score}\")\n",
    "print('-'*70)"
   ]
  },
  {
   "cell_type": "code",
   "execution_count": 17,
   "metadata": {
    "colab": {
     "base_uri": "https://localhost:8080/",
     "height": 294
    },
    "colab_type": "code",
    "id": "4z5V0-E5g-AC",
    "outputId": "307924c4-867e-4bb6-f1b8-d0e25d62c650"
   },
   "outputs": [
    {
     "data": {
      "text/plain": [
       "StackingRegressor(estimators=array([['GradientBoostingRegressor', GradientBoostingRegressor()],\n",
       "       ['MLPRegressor', MLPRegressor()],\n",
       "       ['HistGradientBoostingRegressor', HistGradientBoostingRegressor()]],\n",
       "      dtype=object))"
      ]
     },
     "execution_count": 17,
     "metadata": {},
     "output_type": "execute_result"
    }
   ],
   "source": [
    "reg"
   ]
  },
  {
   "cell_type": "markdown",
   "metadata": {
    "colab_type": "text",
    "id": "zaXL6sBB1-qi"
   },
   "source": [
    "## 4. Salvando o modelo"
   ]
  },
  {
   "cell_type": "code",
   "execution_count": 18,
   "metadata": {
    "colab": {},
    "colab_type": "code",
    "id": "fnT9KWf52Cs0"
   },
   "outputs": [],
   "source": [
    "import pickle\n",
    "\n",
    "pickle.dump(reg, open('modelo.pkl', 'wb'), protocol=4)"
   ]
  },
  {
   "cell_type": "code",
   "execution_count": 24,
   "metadata": {
    "colab": {
     "base_uri": "https://localhost:8080/",
     "height": 35
    },
    "colab_type": "code",
    "id": "C53m18HT2DWi",
    "outputId": "11a8b72a-246f-4b6d-f9ad-e08658bf5bd6"
   },
   "outputs": [],
   "source": [
    "# ls"
   ]
  },
  {
   "cell_type": "code",
   "execution_count": 25,
   "metadata": {
    "colab": {},
    "colab_type": "code",
    "id": "p-cz2E-n2DQV"
   },
   "outputs": [],
   "source": [
    "# resetando o notebook para garantir que estamos carregando o modelo salvo\n",
    "%reset -f"
   ]
  },
  {
   "cell_type": "code",
   "execution_count": 21,
   "metadata": {
    "colab": {},
    "colab_type": "code",
    "id": "6GsRAjofm_mr"
   },
   "outputs": [],
   "source": [
    "import pickle\n",
    "\n",
    "reg = pickle.load(open('modelo.pkl', 'rb'))"
   ]
  },
  {
   "cell_type": "code",
   "execution_count": 22,
   "metadata": {
    "colab": {
     "base_uri": "https://localhost:8080/",
     "height": 294
    },
    "colab_type": "code",
    "id": "OZdeE_j6nCbG",
    "outputId": "f8e25336-96e1-4518-e8a2-fbe55c710b17"
   },
   "outputs": [
    {
     "data": {
      "text/plain": [
       "StackingRegressor(estimators=array([['GradientBoostingRegressor', GradientBoostingRegressor()],\n",
       "       ['MLPRegressor', MLPRegressor()],\n",
       "       ['HistGradientBoostingRegressor', HistGradientBoostingRegressor()]],\n",
       "      dtype=object))"
      ]
     },
     "execution_count": 22,
     "metadata": {},
     "output_type": "execute_result"
    }
   ],
   "source": [
    "reg"
   ]
  },
  {
   "cell_type": "code",
   "execution_count": 23,
   "metadata": {
    "colab": {
     "base_uri": "https://localhost:8080/",
     "height": 35
    },
    "colab_type": "code",
    "id": "vOa_1jPXnKPp",
    "outputId": "85e18bed-b820-4a28-8993-fddc3fc66522"
   },
   "outputs": [
    {
     "data": {
      "text/plain": [
       "array([3605.74974843])"
      ]
     },
     "execution_count": 23,
     "metadata": {},
     "output_type": "execute_result"
    }
   ],
   "source": [
    "import numpy as np\n",
    "\n",
    "dados_novos = [0, 0, 0, 1, np.log1p(2), np.log1p(120)]\n",
    "\n",
    "np.expm1(reg.predict([dados_novos]))"
   ]
  }
 ],
 "metadata": {
  "colab": {
   "collapsed_sections": [],
   "name": "3-ml-best-practices.ipynb",
   "provenance": []
  },
  "kernelspec": {
   "display_name": "Python 3",
   "language": "python",
   "name": "python3"
  },
  "language_info": {
   "codemirror_mode": {
    "name": "ipython",
    "version": 3
   },
   "file_extension": ".py",
   "mimetype": "text/x-python",
   "name": "python",
   "nbconvert_exporter": "python",
   "pygments_lexer": "ipython3",
   "version": "3.8.4"
  }
 },
 "nbformat": 4,
 "nbformat_minor": 1
}
